{
  "nbformat": 4,
  "nbformat_minor": 0,
  "metadata": {
    "colab": {
      "name": "kagglemnist.ipynb",
      "provenance": []
    },
    "kernelspec": {
      "name": "python3",
      "display_name": "Python 3"
    },
    "accelerator": "GPU"
  },
  "cells": [
    {
      "cell_type": "code",
      "metadata": {
        "id": "zvgX_ZY9n2v6",
        "colab_type": "code",
        "colab": {}
      },
      "source": [
        "import tensorflow as tf\n",
        "from tensorflow import keras\n",
        "import matplotlib.pyplot as plt\n",
        "import numpy as np\n",
        "from tensorflow.keras.optimizers import Adam\n",
        "from tensorflow.keras.layers import Conv2D,MaxPooling2D,AveragePooling2D,Input,Activation,Dense,Concatenate,BatchNormalization,Dropout,Flatten\n",
        "from tensorflow.keras.utils import plot_model\n",
        "from tensorflow.keras.preprocessing.image import ImageDataGenerator\n",
        "from sklearn.model_selection import train_test_split"
      ],
      "execution_count": null,
      "outputs": []
    },
    {
      "cell_type": "code",
      "metadata": {
        "id": "TOqJ4oUPn3oN",
        "colab_type": "code",
        "colab": {}
      },
      "source": [
        "import pandas as pd"
      ],
      "execution_count": null,
      "outputs": []
    },
    {
      "cell_type": "code",
      "metadata": {
        "id": "XDde924fn6p_",
        "colab_type": "code",
        "colab": {}
      },
      "source": [
        "data = pd.read_csv(\"/content/train70000.csv\")"
      ],
      "execution_count": null,
      "outputs": []
    },
    {
      "cell_type": "code",
      "metadata": {
        "id": "wa4tgKVmoPJC",
        "colab_type": "code",
        "colab": {}
      },
      "source": [
        "x_train = data.drop(['label','Unnamed: 0'],axis =1)"
      ],
      "execution_count": null,
      "outputs": []
    },
    {
      "cell_type": "code",
      "metadata": {
        "id": "9PYVtAmvoPdi",
        "colab_type": "code",
        "colab": {}
      },
      "source": [
        "y_train = data['label']"
      ],
      "execution_count": null,
      "outputs": []
    },
    {
      "cell_type": "code",
      "metadata": {
        "id": "uLamZAL0oPzD",
        "colab_type": "code",
        "colab": {}
      },
      "source": [
        "x_train = np.array(x_train)\n",
        "x_train.shape"
      ],
      "execution_count": null,
      "outputs": []
    },
    {
      "cell_type": "code",
      "metadata": {
        "id": "5vvYMACloaMj",
        "colab_type": "code",
        "colab": {}
      },
      "source": [
        "y_train = np.array(y_train)\n",
        "y_train.shape"
      ],
      "execution_count": null,
      "outputs": []
    },
    {
      "cell_type": "code",
      "metadata": {
        "id": "ulpPHjvVoab-",
        "colab_type": "code",
        "colab": {}
      },
      "source": [
        "x_train = x_train.astype('float')/255.\n",
        "\n",
        "x_train = np.reshape(x_train,(42000,28,28,1))\n",
        "x_train = np.pad(x_train, ((0, 0), (2, 2), (2, 2), (0, 0)), 'constant')\n",
        "\n",
        "x_train,x_val,y_train,y_val = train_test_split(x_train,y_train,test_size = 0.10)\n",
        "\n",
        "datagen = ImageDataGenerator(\n",
        "        rotation_range=10,  \n",
        "        zoom_range = 0.10,  \n",
        "        width_shift_range=0.1, \n",
        "        height_shift_range=0.1)"
      ],
      "execution_count": null,
      "outputs": []
    },
    {
      "cell_type": "code",
      "metadata": {
        "id": "4vJ7bZZCzor4",
        "colab_type": "code",
        "colab": {}
      },
      "source": [
        "datagen.fit(x_train)"
      ],
      "execution_count": null,
      "outputs": []
    },
    {
      "cell_type": "code",
      "metadata": {
        "id": "pi5IVU1Hoaut",
        "colab_type": "code",
        "colab": {}
      },
      "source": [
        "plt.figure(figsize=(20,2))\n",
        "for i in range(10):\n",
        "  plt.subplot(1,10,i+1)\n",
        "  plt.imshow(x_train[i].reshape(32,32), cmap='binary')\n",
        "  plt.xticks([])\n",
        "  plt.yticks([])\n",
        "plt.show()"
      ],
      "execution_count": null,
      "outputs": []
    },
    {
      "cell_type": "code",
      "metadata": {
        "id": "7Pnw6kiVrirj",
        "colab_type": "code",
        "colab": {}
      },
      "source": [
        "a0 = keras.layers.Input(shape=(32,32,1))\n",
        "\n",
        "z1 = Conv2D(4,(3,3),padding = 'same')(a0)\n",
        "z1c = Concatenate()([a0,z1])\n",
        "z1b = BatchNormalization()(z1c)\n",
        "a1 = Activation('relu')(z1b)\n",
        "\n",
        "z2 = Conv2D(4,(3,3),padding = 'same')(a1)\n",
        "z2c = Concatenate()([a0,z1,z2])\n",
        "z2b = BatchNormalization()(z2c)\n",
        "a2 = Activation('relu')(z2b)\n",
        "\n",
        "\n",
        "z3 = Conv2D(4,(3,3),padding = 'same')(a2)\n",
        "z3c = Concatenate()([a0,z1,z2,z3])\n",
        "z3b = BatchNormalization()(z3c)\n",
        "a3 = Activation('relu')(z3b)\n",
        "\n",
        "\n",
        "z4 = Conv2D(4,(3,3),padding = 'same')(a3)\n",
        "z4c = Concatenate()([a0,z1,z2,z3,z4])\n",
        "z4b = BatchNormalization()(z4)\n",
        "a4 = Activation('relu')(z4b)\n",
        "\n",
        "\n",
        "z5 = Conv2D(4,(3,3),padding = 'same')(a4)\n",
        "z5c = Concatenate()([a0,z1,z2,z3,z4,z5])\n",
        "z5b = BatchNormalization()(z5c)\n",
        "a5 = Activation('relu')(z5b)\n",
        "a5 = Dropout(0.5)(a5)\n",
        "\n",
        "\n",
        "z7 = Conv2D(92,(5,5))(a5)\n",
        "z7 = BatchNormalization()(z7)\n",
        "a7 = Activation('relu')(z7)\n",
        "a7 = AveragePooling2D(pool_size=(2,2),strides=2)(a7)\n",
        "a7 = Dropout(0.5)(a7)\n",
        "\n",
        "z8 = Conv2D(128,(5,5))(a7)\n",
        "z8 = BatchNormalization()(z8)\n",
        "a8 = Activation('relu')(z8)\n",
        "a8 = AveragePooling2D(pool_size = (2,2),strides=2)(a8)\n",
        "a8 = Dropout(0.5)(a8)\n",
        "\n",
        "a_0 = keras.layers.GlobalAveragePooling2D()(a8)\n",
        "\n",
        "z_1 = Dense(128)(a_0)\n",
        "z_1 = BatchNormalization()(z_1)\n",
        "a_1 = Activation('relu')(z_1)\n",
        "a_1 = Dropout(0.4)(a_1)\n",
        "\n",
        "z_2 = Dense(84)(a_1)\n",
        "z_2 = BatchNormalization()(z_2)\n",
        "a_2 = Activation('relu')(z_2)\n",
        "a_1 = Dropout(0.4)(a_2)\n",
        "\n",
        "z_3 = Dense(10)(a_2)\n",
        "a_3 = Activation('softmax')(z_3)"
      ],
      "execution_count": null,
      "outputs": []
    },
    {
      "cell_type": "code",
      "metadata": {
        "id": "CkJGrkZarrY3",
        "colab_type": "code",
        "colab": {}
      },
      "source": [
        "model = keras.models.Model(a0,a_3)"
      ],
      "execution_count": null,
      "outputs": []
    },
    {
      "cell_type": "code",
      "metadata": {
        "id": "5CBX89nnv_lh",
        "colab_type": "code",
        "colab": {}
      },
      "source": [
        "model.save('mnist.h5')"
      ],
      "execution_count": null,
      "outputs": []
    },
    {
      "cell_type": "code",
      "metadata": {
        "id": "txNEuJ45rx30",
        "colab_type": "code",
        "colab": {}
      },
      "source": [
        "model.summary()"
      ],
      "execution_count": null,
      "outputs": []
    },
    {
      "cell_type": "code",
      "metadata": {
        "id": "Y-DjoDGhrzgG",
        "colab_type": "code",
        "colab": {}
      },
      "source": [
        "model.compile(loss = 'sparse_categorical_crossentropy',optimizer=Adam(lr = 0.0003),metrics=['accuracy'])"
      ],
      "execution_count": null,
      "outputs": []
    },
    {
      "cell_type": "code",
      "metadata": {
        "id": "Xv1yy6nLr13r",
        "colab_type": "code",
        "colab": {}
      },
      "source": [
        "plot_model(model,to_file='LeNet-5.png',show_shapes=True,show_layer_names = True)"
      ],
      "execution_count": null,
      "outputs": []
    },
    {
      "cell_type": "code",
      "metadata": {
        "id": "nWK8slRGr35f",
        "colab_type": "code",
        "colab": {}
      },
      "source": [
        "history = model.fit(x_train,y_train,batch_size = 256,epochs = 150,verbose = 1,shuffle = True,validation_data=(x_val,y_val))"
      ],
      "execution_count": null,
      "outputs": []
    },
    {
      "cell_type": "code",
      "metadata": {
        "id": "V-6Cp1ORr6ci",
        "colab_type": "code",
        "colab": {}
      },
      "source": [
        " acc = history.history['accuracy']\n",
        "val_acc = history.history['val_accuracy']\n",
        "loss = history.history['loss']\n",
        "val_loss = history.history['val_loss']\n",
        "\n",
        "\n",
        "epochs = range(len(acc))\n",
        "\n",
        "plt.plot(epochs,acc,'r',label = 'training accuracy')\n",
        "plt.plot(epochs,val_acc,'b',label = 'validation accuracy')\n",
        "plt.legend(loc =0)\n",
        "plt.figure()\n",
        "\n",
        "plt.plot(epochs,loss,'r',label = 'training loss')\n",
        "plt.plot(epochs,val_loss,'b',label = 'validation loss')\n",
        "plt.legend(loc =0)\n",
        "plt.figure()"
      ],
      "execution_count": null,
      "outputs": []
    },
    {
      "cell_type": "code",
      "metadata": {
        "id": "_KisriqxyoxO",
        "colab_type": "code",
        "colab": {}
      },
      "source": [
        "model.save('handwritten.h5')"
      ],
      "execution_count": null,
      "outputs": []
    }
  ]
}